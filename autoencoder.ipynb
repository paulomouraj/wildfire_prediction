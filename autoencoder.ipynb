{
 "cells": [
  {
   "cell_type": "markdown",
   "metadata": {},
   "source": [
    "# Classifier based on Autoencoder pretraining"
   ]
  },
  {
   "cell_type": "code",
   "execution_count": 1,
   "metadata": {},
   "outputs": [],
   "source": [
    "import torch\n",
    "import json\n",
    "import os\n",
    "import numpy as np\n",
    "from torch import nn\n",
    "from torch.utils.data import Dataset\n",
    "from PIL import Image, ImageFile\n",
    "from torchvision import transforms\n",
    "from sklearn.model_selection import train_test_split\n",
    "from torch.nn import DataParallel\n",
    "from tqdm import tqdm\n",
    "from tabulate import tabulate\n",
    "from IPython.display import clear_output\n",
    "\n",
    "ImageFile.LOAD_TRUNCATED_IMAGES = True"
   ]
  },
  {
   "cell_type": "markdown",
   "metadata": {},
   "source": [
    "Define dataset class and transform func"
   ]
  },
  {
   "cell_type": "code",
   "execution_count": 2,
   "metadata": {},
   "outputs": [],
   "source": [
    "class VAEDataset(Dataset):\n",
    "    def __init__(self, image_paths, transform=None):\n",
    "        self.image_paths = image_paths\n",
    "        self.transform = transform\n",
    "    def __len__(self):\n",
    "        return len(self.image_paths)\n",
    "    def __getitem__(self, idx):\n",
    "        im = Image.open(self.image_paths[idx]).convert('RGB')\n",
    "        if self.transform:\n",
    "            im = self.transform(im)\n",
    "        return im\n",
    "\n",
    "transform = transforms.Compose([\n",
    "    transforms.Resize((32, 32)),\n",
    "    transforms.ToTensor()\n",
    "])"
   ]
  },
  {
   "cell_type": "markdown",
   "metadata": {},
   "source": [
    "Define autoencoder model"
   ]
  },
  {
   "cell_type": "code",
   "execution_count": 3,
   "metadata": {},
   "outputs": [],
   "source": [
    "class Encoder(nn.Module):\n",
    "    def __init__(self, dropout_rate=0.2):\n",
    "        super(Encoder, self).__init__()\n",
    "        self.encoder = nn.Sequential(\n",
    "            # First conv block: input (batch, 3, H, W) -> output (batch, 16, H/2, W/2)\n",
    "            nn.Conv2d(in_channels=3, out_channels=16, kernel_size=3, stride=2, padding=1),\n",
    "            nn.BatchNorm2d(16),\n",
    "            nn.ReLU(inplace=True),\n",
    "            nn.Dropout2d(dropout_rate),\n",
    "            \n",
    "            # Second conv block: output (batch, 16, H/2, W/2) -> output (batch, 32, H/4, W/4)\n",
    "            nn.Conv2d(in_channels=16, out_channels=32, kernel_size=3, stride=2, padding=1),\n",
    "            nn.BatchNorm2d(32),\n",
    "            nn.ReLU(inplace=True),\n",
    "            nn.Dropout2d(dropout_rate)\n",
    "        )\n",
    "    \n",
    "    def forward(self, x):\n",
    "        return self.encoder(x)\n",
    "\n",
    "\n",
    "class Decoder(nn.Module):\n",
    "    def __init__(self, dropout_rate=0.2):\n",
    "        super(Decoder, self).__init__()\n",
    "        self.decoder = nn.Sequential(\n",
    "            # First transpose conv block: input (batch, 32, H/4, W/4) -> output (batch, 16, H/2, W/2)\n",
    "            nn.ConvTranspose2d(in_channels=32, out_channels=16, kernel_size=3, stride=2,\n",
    "                               padding=1, output_padding=1),\n",
    "            nn.BatchNorm2d(16),\n",
    "            nn.ReLU(inplace=True),\n",
    "            nn.Dropout2d(dropout_rate),\n",
    "            \n",
    "            # Second transpose conv block: input (batch, 16, H/2, W/2) -> output (batch, 3, H, W)\n",
    "            nn.ConvTranspose2d(in_channels=16, out_channels=3, kernel_size=3, stride=2,\n",
    "                               padding=1, output_padding=1),\n",
    "            nn.Sigmoid()  # Ensures output pixel values are between 0 and 1\n",
    "        )\n",
    "    \n",
    "    def forward(self, x):\n",
    "        return self.decoder(x)\n",
    "\n",
    "class Autoencoder(nn.Module):\n",
    "    def __init__(self):\n",
    "        super(Autoencoder, self).__init__()\n",
    "        self.encoder = Encoder()\n",
    "        self.decoder = Decoder()\n",
    "\n",
    "    def forward(self, x):\n",
    "        latent = self.encoder(x)\n",
    "        reconstructed = self.decoder(latent)\n",
    "        return reconstructed"
   ]
  },
  {
   "cell_type": "markdown",
   "metadata": {},
   "source": [
    "Train autoencoder"
   ]
  },
  {
   "cell_type": "code",
   "execution_count": 4,
   "metadata": {},
   "outputs": [],
   "source": [
    "# load datasets\n",
    "\n",
    "paths_folder = 'paths/'\n",
    "train_paths = json.load(open(paths_folder + 'train_paths_unlabelled.json'))\n",
    "val_paths = json.load(open(paths_folder + 'train_paths_labelled.json'))\n",
    "\n",
    "train_dataset = VAEDataset(train_paths, transform=transform)\n",
    "val_dataset = VAEDataset(val_paths, transform=transform)\n"
   ]
  },
  {
   "cell_type": "code",
   "execution_count": 5,
   "metadata": {},
   "outputs": [],
   "source": [
    "device = torch.device('cuda' if torch.cuda.is_available() else 'cpu')"
   ]
  },
  {
   "cell_type": "code",
   "execution_count": 6,
   "metadata": {},
   "outputs": [],
   "source": [
    "# hyperparameters\n",
    "batch_size = 256\n",
    "n_epochs = 10\n",
    "learning_rate = 1e-4\n",
    "weight_decay = 1e-2\n",
    "\n",
    "train_loader = torch.utils.data.DataLoader(train_dataset, batch_size=batch_size, shuffle=True, generator=torch.Generator().manual_seed(0), num_workers=os.cpu_count())\n",
    "val_loader = torch.utils.data.DataLoader(val_dataset, batch_size=batch_size, shuffle=False, num_workers=os.cpu_count())\n",
    "\n",
    "model = Autoencoder().to(device)\n",
    "model = DataParallel(model)\n",
    "\n",
    "criterion = nn.MSELoss()\n",
    "optimizer = torch.optim.Adam(model.parameters(), lr=learning_rate, weight_decay=weight_decay)\n"
   ]
  },
  {
   "cell_type": "code",
   "execution_count": null,
   "metadata": {},
   "outputs": [],
   "source": [
    "train_losses = []\n",
    "val_losses = []\n",
    "epoch_saved = 0\n",
    "best_val_loss = float('inf')\n",
    "\n",
    "epoch_metrics = []\n",
    "headers = [\"Epoch\", \"Train Loss\", \"Val Loss\"]\n",
    "\n",
    "progress_bar = tqdm(range(n_epochs), desc=\"Training Progress\", unit=\"epoch\", leave=False)\n",
    "for epoch in progress_bar:\n",
    "    # Training\n",
    "    model.train()\n",
    "    train_loss = 0\n",
    "    train_acc = 0\n",
    "\n",
    "    for imgs in train_loader:\n",
    "        imgs = imgs.to(device)\n",
    "        imgs_reconstructed = model(imgs)\n",
    "        \n",
    "        loss = criterion(imgs_reconstructed, imgs)\n",
    "        train_loss += loss.item()\n",
    "\n",
    "        optimizer.zero_grad()\n",
    "        loss.backward()\n",
    "        optimizer.step()\n",
    "    \n",
    "    # Validation\n",
    "    model.eval()\n",
    "    val_loss = 0\n",
    "    \n",
    "    with torch.no_grad():\n",
    "        for imgs in val_loader:\n",
    "            imgs = imgs.to(device)\n",
    "            imgs_reconstructed = model(imgs)\n",
    "\n",
    "            loss = criterion(imgs_reconstructed, imgs)\n",
    "            val_loss += loss.item()\n",
    "\n",
    "    # Save model with best validation loss\n",
    "    if val_loss > best_val_loss:\n",
    "        best_val_f1 = val_loss\n",
    "        torch.save(model.state_dict(), \"models/best_vae.pt\")\n",
    "        epoch_saved = epoch + 1\n",
    "\n",
    "    epoch_metrics.append([\n",
    "        epoch + 1,\n",
    "        train_loss,\n",
    "        val_loss\n",
    "    ])\n",
    "\n",
    "    # Update the progress bar description\n",
    "    progress_bar.set_description(f\"Epoch {epoch + 1}/{n_epochs}\")\n",
    "    \n",
    "    # Clear and display the table\n",
    "    clear_output()\n",
    "    tqdm.write(tabulate(epoch_metrics, headers=headers, floatfmt=\".4f\"))\n",
    "    \n",
    "# save last epoch model\n",
    "torch.save(model.state_dict(), \"models/last_vae.pt\")\n",
    "\n",
    "# Save training and validation metrics\n",
    "np.save(\"logs/vae_train_losses.npy\", np.array(train_losses))\n",
    "np.save(\"logs/vae_val_losses.npy\", np.array(val_losses))"
   ]
  }
 ],
 "metadata": {
  "kernelspec": {
   "display_name": "challenge",
   "language": "python",
   "name": "python3"
  },
  "language_info": {
   "codemirror_mode": {
    "name": "ipython",
    "version": 3
   },
   "file_extension": ".py",
   "mimetype": "text/x-python",
   "name": "python",
   "nbconvert_exporter": "python",
   "pygments_lexer": "ipython3",
   "version": "3.10.13"
  }
 },
 "nbformat": 4,
 "nbformat_minor": 2
}

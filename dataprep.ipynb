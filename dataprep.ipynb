{
 "cells": [
  {
   "cell_type": "markdown",
   "metadata": {},
   "source": [
    "# Data preparation"
   ]
  },
  {
   "cell_type": "code",
   "execution_count": 40,
   "metadata": {},
   "outputs": [],
   "source": [
    "import os\n",
    "import json\n",
    "import numpy as np\n",
    "from sklearn.model_selection import train_test_split"
   ]
  },
  {
   "cell_type": "markdown",
   "metadata": {},
   "source": [
    "### Split image paths into train, test and validation sets and save them into json files"
   ]
  },
  {
   "cell_type": "code",
   "execution_count": 41,
   "metadata": {},
   "outputs": [],
   "source": [
    "def read_image_paths(path_image_folder):\n",
    "    image_paths = []\n",
    "    for root, dirs, files in os.walk(path_image_folder):\n",
    "        for file in files:\n",
    "            if file.endswith(\".jpg\"):\n",
    "                image_paths.append(os.path.join(root, file))\n",
    "    return image_paths"
   ]
  },
  {
   "cell_type": "code",
   "execution_count": 42,
   "metadata": {},
   "outputs": [],
   "source": [
    "train_paths = read_image_paths(\"dataset/versions/1/train\")\n",
    "eval_paths = read_image_paths(\"dataset/versions/1/test\")\n",
    "\n",
    "np.random.seed(0)\n",
    "train_paths = np.random.permutation(train_paths)\n",
    "test_paths, val_paths = train_test_split(eval_paths, test_size=0.5, random_state=0)\n",
    "\n",
    "json.dump(list(train_paths), open(\"train_paths.json\", \"w\"), indent=4)\n",
    "json.dump(list(val_paths), open(\"val_paths.json\", \"w\"), indent=4)\n",
    "json.dump(list(test_paths), open(\"test_paths.json\", \"w\"), indent=4)"
   ]
  }
 ],
 "metadata": {
  "kernelspec": {
   "display_name": "challenge",
   "language": "python",
   "name": "python3"
  },
  "language_info": {
   "codemirror_mode": {
    "name": "ipython",
    "version": 3
   },
   "file_extension": ".py",
   "mimetype": "text/x-python",
   "name": "python",
   "nbconvert_exporter": "python",
   "pygments_lexer": "ipython3",
   "version": "3.10.13"
  }
 },
 "nbformat": 4,
 "nbformat_minor": 2
}
